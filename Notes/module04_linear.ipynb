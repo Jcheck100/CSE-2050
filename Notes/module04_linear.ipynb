{
 "cells": [
  {
   "cell_type": "markdown",
   "metadata": {},
   "source": [
    "### Code to accompany Module 4: Linear Data Structures"
   ]
  },
  {
   "cell_type": "markdown",
   "metadata": {},
   "source": [
    "### Stacks"
   ]
  },
  {
   "cell_type": "code",
   "execution_count": 2,
   "metadata": {},
   "outputs": [],
   "source": [
    "class ListStack:\n",
    "    def __init__(self):\n",
    "        self._L = []\n",
    "    \n",
    "    def push(self, item):\n",
    "        self._L.append(item)\n",
    "\n",
    "    def pop(self):\n",
    "        return self._L.pop()\n",
    "\n",
    "    def peek(self):\n",
    "        return self._L[-1]\n",
    "\n",
    "    def __len__(self):\n",
    "        return len(self._L)\n",
    "\n",
    "    def isEmpty(self):\n",
    "        return len(self) == 0"
   ]
  },
  {
   "cell_type": "code",
   "execution_count": 2,
   "metadata": {},
   "outputs": [
    {
     "data": {
      "text/plain": [
       "True"
      ]
     },
     "execution_count": 2,
     "metadata": {},
     "output_type": "execute_result"
    }
   ],
   "source": [
    "# Test the stack methods here\n",
    "stack = ListStack()\n",
    "\n",
    "stack.isEmpty() \n",
    "# etc."
   ]
  },
  {
   "cell_type": "markdown",
   "metadata": {},
   "source": [
    "### Queues"
   ]
  },
  {
   "cell_type": "code",
   "execution_count": 6,
   "metadata": {},
   "outputs": [],
   "source": [
    "class ListQueue:\n",
    "    def __init__(self):\n",
    "        self._L = []\n",
    "    \n",
    "    def enqueue(self, item):\n",
    "        self._L.append(item)\n",
    "\n",
    "    def dequeue(self):\n",
    "        return self._L.pop(0)\n",
    "\n",
    "    def peek(self):\n",
    "        return self._L[0]\n",
    "\n",
    "    def __len__(self):\n",
    "        return len(self._L)\n",
    "\n",
    "    def isEmpty(self):\n",
    "        return len(self) == 0"
   ]
  },
  {
   "cell_type": "code",
   "execution_count": null,
   "metadata": {},
   "outputs": [],
   "source": [
    "# Test the queue methods here\n",
    "queue = ListQueue()\n",
    "\n",
    "queue.isEmpty() \n",
    "# etc."
   ]
  },
  {
   "cell_type": "code",
   "execution_count": null,
   "metadata": {},
   "outputs": [],
   "source": [
    "# Lazy Updates\n",
    "class ListQueue2:\n",
    "    def __init__(self):\n",
    "        self._head = 0\n",
    "        self._L = []\n",
    "    \n",
    "    def enqueue(self, item):\n",
    "        self._L.append(item)\n",
    "\n",
    "    def dequeue(self):\n",
    "        item = self.peek()\n",
    "        self._head += 1\n",
    "        return item\n",
    "\n",
    "    def peek(self):\n",
    "        return self._L[self._head]\n",
    "\n",
    "    def __len__(self):\n",
    "        return len(self._L) - self._head\n",
    "\n",
    "    def isEmpty(self):\n",
    "        return len(self) == 0"
   ]
  },
  {
   "cell_type": "markdown",
   "metadata": {},
   "source": [
    "### Error Messages"
   ]
  },
  {
   "cell_type": "code",
   "execution_count": 3,
   "metadata": {},
   "outputs": [
    {
     "ename": "IndexError",
     "evalue": "pop from empty list",
     "output_type": "error",
     "traceback": [
      "\u001b[1;31m---------------------------------------------------------------------------\u001b[0m",
      "\u001b[1;31mIndexError\u001b[0m                                Traceback (most recent call last)",
      "Cell \u001b[1;32mIn[3], line 5\u001b[0m\n\u001b[0;32m      3\u001b[0m s\u001b[38;5;241m.\u001b[39mpush(\u001b[38;5;241m17\u001b[39m)\n\u001b[0;32m      4\u001b[0m s\u001b[38;5;241m.\u001b[39mpop()\n\u001b[1;32m----> 5\u001b[0m \u001b[43ms\u001b[49m\u001b[38;5;241;43m.\u001b[39;49m\u001b[43mpop\u001b[49m\u001b[43m(\u001b[49m\u001b[43m)\u001b[49m\n",
      "Cell \u001b[1;32mIn[2], line 9\u001b[0m, in \u001b[0;36mListStack.pop\u001b[1;34m(self)\u001b[0m\n\u001b[0;32m      8\u001b[0m \u001b[38;5;28;01mdef\u001b[39;00m\u001b[38;5;250m \u001b[39m\u001b[38;5;21mpop\u001b[39m(\u001b[38;5;28mself\u001b[39m):\n\u001b[1;32m----> 9\u001b[0m     \u001b[38;5;28;01mreturn\u001b[39;00m \u001b[38;5;28;43mself\u001b[39;49m\u001b[38;5;241;43m.\u001b[39;49m\u001b[43m_L\u001b[49m\u001b[38;5;241;43m.\u001b[39;49m\u001b[43mpop\u001b[49m\u001b[43m(\u001b[49m\u001b[43m)\u001b[49m\n",
      "\u001b[1;31mIndexError\u001b[0m: pop from empty list"
     ]
    }
   ],
   "source": [
    "# What happens when we try to use pop() on an empty stack?\n",
    "s = ListStack()\n",
    "s.push(17)\n",
    "s.pop()\n",
    "s.pop()"
   ]
  },
  {
   "cell_type": "code",
   "execution_count": 4,
   "metadata": {},
   "outputs": [],
   "source": [
    "# Use try-except and raise an error\n",
    "class ListStack:\n",
    "    def __init__(self):\n",
    "        self._L = []\n",
    "    \n",
    "    def push(self, item):\n",
    "        self._L.append(item)\n",
    "\n",
    "    def pop(self):\n",
    "        try:\n",
    "            return self._L.pop()\n",
    "        except:\n",
    "            raise RuntimeError(\"pop from empty stack\")\n",
    "\n",
    "    def peek(self):\n",
    "        return self._L[-1]\n",
    "\n",
    "    def __len__(self):\n",
    "        return len(self._L)\n",
    "\n",
    "    def isEmpty(self):\n",
    "        return len(self) == 0"
   ]
  },
  {
   "cell_type": "code",
   "execution_count": 5,
   "metadata": {},
   "outputs": [
    {
     "ename": "RuntimeError",
     "evalue": "pop from empty stack",
     "output_type": "error",
     "traceback": [
      "\u001b[1;31m---------------------------------------------------------------------------\u001b[0m",
      "\u001b[1;31mIndexError\u001b[0m                                Traceback (most recent call last)",
      "Cell \u001b[1;32mIn[4], line 11\u001b[0m, in \u001b[0;36mListStack.pop\u001b[1;34m(self)\u001b[0m\n\u001b[0;32m     10\u001b[0m \u001b[38;5;28;01mtry\u001b[39;00m:\n\u001b[1;32m---> 11\u001b[0m     \u001b[38;5;28;01mreturn\u001b[39;00m \u001b[38;5;28;43mself\u001b[39;49m\u001b[38;5;241;43m.\u001b[39;49m\u001b[43m_L\u001b[49m\u001b[38;5;241;43m.\u001b[39;49m\u001b[43mpop\u001b[49m\u001b[43m(\u001b[49m\u001b[43m)\u001b[49m\n\u001b[0;32m     12\u001b[0m \u001b[38;5;28;01mexcept\u001b[39;00m:\n",
      "\u001b[1;31mIndexError\u001b[0m: pop from empty list",
      "\nDuring handling of the above exception, another exception occurred:\n",
      "\u001b[1;31mRuntimeError\u001b[0m                              Traceback (most recent call last)",
      "Cell \u001b[1;32mIn[5], line 5\u001b[0m\n\u001b[0;32m      3\u001b[0m s\u001b[38;5;241m.\u001b[39mpush(\u001b[38;5;241m17\u001b[39m)\n\u001b[0;32m      4\u001b[0m s\u001b[38;5;241m.\u001b[39mpop()\n\u001b[1;32m----> 5\u001b[0m \u001b[43ms\u001b[49m\u001b[38;5;241;43m.\u001b[39;49m\u001b[43mpop\u001b[49m\u001b[43m(\u001b[49m\u001b[43m)\u001b[49m\n",
      "Cell \u001b[1;32mIn[4], line 13\u001b[0m, in \u001b[0;36mListStack.pop\u001b[1;34m(self)\u001b[0m\n\u001b[0;32m     11\u001b[0m     \u001b[38;5;28;01mreturn\u001b[39;00m \u001b[38;5;28mself\u001b[39m\u001b[38;5;241m.\u001b[39m_L\u001b[38;5;241m.\u001b[39mpop()\n\u001b[0;32m     12\u001b[0m \u001b[38;5;28;01mexcept\u001b[39;00m:\n\u001b[1;32m---> 13\u001b[0m     \u001b[38;5;28;01mraise\u001b[39;00m \u001b[38;5;167;01mRuntimeError\u001b[39;00m(\u001b[38;5;124m\"\u001b[39m\u001b[38;5;124mpop from empty stack\u001b[39m\u001b[38;5;124m\"\u001b[39m)\n",
      "\u001b[1;31mRuntimeError\u001b[0m: pop from empty stack"
     ]
    }
   ],
   "source": [
    "# Test\n",
    "s = ListStack()\n",
    "s.push(17)\n",
    "s.pop()\n",
    "s.pop()"
   ]
  },
  {
   "cell_type": "code",
   "execution_count": 10,
   "metadata": {},
   "outputs": [],
   "source": [
    "# Use try-except but only print an error\n",
    "class ListStack:\n",
    "    def __init__(self):\n",
    "        self._L = []\n",
    "    \n",
    "    def push(self, item):\n",
    "        self._L.append(item)\n",
    "\n",
    "    def pop(self):\n",
    "        try:\n",
    "            return self._L.pop()\n",
    "        except:\n",
    "            print(\"You just tried to pop from an empty stack.\")\n",
    "\n",
    "    def peek(self):\n",
    "        return self._L[-1]\n",
    "\n",
    "    def __len__(self):\n",
    "        return len(self._L)\n",
    "\n",
    "    def isEmpty(self):\n",
    "        return len(self) == 0"
   ]
  },
  {
   "cell_type": "code",
   "execution_count": null,
   "metadata": {},
   "outputs": [],
   "source": [
    "# Test\n",
    "s = ListStack()\n",
    "s.push(17)\n",
    "s.pop()\n",
    "s.pop()"
   ]
  },
  {
   "cell_type": "markdown",
   "metadata": {},
   "source": [
    "### Deques"
   ]
  },
  {
   "cell_type": "code",
   "execution_count": null,
   "metadata": {},
   "outputs": [],
   "source": [
    "class ListDeque:\n",
    "    def __init__(self):\n",
    "        self._L = []\n",
    "    \n",
    "    def addFirst(self, item):\n",
    "        self._L.insert(0, item)\n",
    "\n",
    "    def addLast(self, item):\n",
    "        self._L.append(item)\n",
    "\n",
    "    def removeFirst(self):\n",
    "        self._L.pop[0]\n",
    "\n",
    "    def removeLast(self):\n",
    "        self._L.pop()\n",
    "\n",
    "    def __len__(self):\n",
    "        return len(self._L)"
   ]
  },
  {
   "cell_type": "code",
   "execution_count": null,
   "metadata": {},
   "outputs": [],
   "source": [
    "# Test the deque operations"
   ]
  },
  {
   "cell_type": "markdown",
   "metadata": {},
   "source": [
    "### Linked Lists"
   ]
  },
  {
   "cell_type": "code",
   "execution_count": null,
   "metadata": {},
   "outputs": [],
   "source": []
  }
 ],
 "metadata": {
  "kernelspec": {
   "display_name": "Python 3",
   "language": "python",
   "name": "python3"
  },
  "language_info": {
   "codemirror_mode": {
    "name": "ipython",
    "version": 3
   },
   "file_extension": ".py",
   "mimetype": "text/x-python",
   "name": "python",
   "nbconvert_exporter": "python",
   "pygments_lexer": "ipython3",
   "version": "3.13.0"
  }
 },
 "nbformat": 4,
 "nbformat_minor": 2
}
