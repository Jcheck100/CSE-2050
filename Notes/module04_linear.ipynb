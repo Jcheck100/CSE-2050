{
 "cells": [
  {
   "cell_type": "markdown",
   "metadata": {},
   "source": [
    "### Code to accompany Module 4: Linear Data Structures"
   ]
  },
  {
   "cell_type": "markdown",
   "metadata": {},
   "source": [
    "### Stacks"
   ]
  },
  {
   "cell_type": "code",
   "execution_count": 49,
   "metadata": {},
   "outputs": [],
   "source": [
    "class ListStack:\n",
    "    def __init__(self):\n",
    "        self._L = []\n",
    "    \n",
    "    def push(self, item):\n",
    "        self._L.append(item)\n",
    "\n",
    "    def pop(self):\n",
    "        return self._L.pop()\n",
    "\n",
    "    def peek(self):\n",
    "        return self._L[-1]\n",
    "\n",
    "    def __len__(self):\n",
    "        return len(self._L)\n",
    "\n",
    "    def isEmpty(self):\n",
    "        return len(self) == 0"
   ]
  },
  {
   "cell_type": "code",
   "execution_count": 50,
   "metadata": {},
   "outputs": [
    {
     "data": {
      "text/plain": [
       "True"
      ]
     },
     "execution_count": 50,
     "metadata": {},
     "output_type": "execute_result"
    }
   ],
   "source": [
    "# Test the stack methods here\n",
    "stack = ListStack()\n",
    "\n",
    "stack.isEmpty() \n",
    "# etc."
   ]
  },
  {
   "cell_type": "markdown",
   "metadata": {},
   "source": [
    "### Queues"
   ]
  },
  {
   "cell_type": "code",
   "execution_count": 51,
   "metadata": {},
   "outputs": [],
   "source": [
    "class ListQueue:\n",
    "    def __init__(self):\n",
    "        self._L = []\n",
    "    \n",
    "    def enqueue(self, item):\n",
    "        self._L.append(item)\n",
    "\n",
    "    def dequeue(self):\n",
    "        return self._L.pop(0)\n",
    "\n",
    "    def peek(self):\n",
    "        return self._L[0]\n",
    "\n",
    "    def __len__(self):\n",
    "        return len(self._L)\n",
    "\n",
    "    def isEmpty(self):\n",
    "        return len(self) == 0"
   ]
  },
  {
   "cell_type": "code",
   "execution_count": 52,
   "metadata": {},
   "outputs": [
    {
     "data": {
      "text/plain": [
       "True"
      ]
     },
     "execution_count": 52,
     "metadata": {},
     "output_type": "execute_result"
    }
   ],
   "source": [
    "# Test the queue methods here\n",
    "queue = ListQueue()\n",
    "\n",
    "queue.isEmpty() \n",
    "# etc."
   ]
  },
  {
   "cell_type": "code",
   "execution_count": 53,
   "metadata": {},
   "outputs": [],
   "source": [
    "# Lazy Updates\n",
    "class ListQueue2:\n",
    "    def __init__(self):\n",
    "        self._head = 0\n",
    "        self._L = []\n",
    "    \n",
    "    def enqueue(self, item):\n",
    "        self._L.append(item)\n",
    "\n",
    "    def dequeue(self):\n",
    "        item = self.peek()\n",
    "        self._head += 1\n",
    "        return item\n",
    "\n",
    "    def peek(self):\n",
    "        return self._L[self._head]\n",
    "\n",
    "    def __len__(self):\n",
    "        return len(self._L) - self._head\n",
    "\n",
    "    def isEmpty(self):\n",
    "        return len(self) == 0"
   ]
  },
  {
   "cell_type": "markdown",
   "metadata": {},
   "source": [
    "### Error Messages"
   ]
  },
  {
   "cell_type": "code",
   "execution_count": 54,
   "metadata": {},
   "outputs": [
    {
     "ename": "IndexError",
     "evalue": "pop from empty list",
     "output_type": "error",
     "traceback": [
      "\u001b[1;31m---------------------------------------------------------------------------\u001b[0m",
      "\u001b[1;31mIndexError\u001b[0m                                Traceback (most recent call last)",
      "Cell \u001b[1;32mIn[54], line 5\u001b[0m\n\u001b[0;32m      3\u001b[0m s\u001b[38;5;241m.\u001b[39mpush(\u001b[38;5;241m17\u001b[39m)\n\u001b[0;32m      4\u001b[0m s\u001b[38;5;241m.\u001b[39mpop()\n\u001b[1;32m----> 5\u001b[0m \u001b[43ms\u001b[49m\u001b[38;5;241;43m.\u001b[39;49m\u001b[43mpop\u001b[49m\u001b[43m(\u001b[49m\u001b[43m)\u001b[49m\n",
      "Cell \u001b[1;32mIn[49], line 9\u001b[0m, in \u001b[0;36mListStack.pop\u001b[1;34m(self)\u001b[0m\n\u001b[0;32m      8\u001b[0m \u001b[38;5;28;01mdef\u001b[39;00m\u001b[38;5;250m \u001b[39m\u001b[38;5;21mpop\u001b[39m(\u001b[38;5;28mself\u001b[39m):\n\u001b[1;32m----> 9\u001b[0m     \u001b[38;5;28;01mreturn\u001b[39;00m \u001b[38;5;28;43mself\u001b[39;49m\u001b[38;5;241;43m.\u001b[39;49m\u001b[43m_L\u001b[49m\u001b[38;5;241;43m.\u001b[39;49m\u001b[43mpop\u001b[49m\u001b[43m(\u001b[49m\u001b[43m)\u001b[49m\n",
      "\u001b[1;31mIndexError\u001b[0m: pop from empty list"
     ]
    }
   ],
   "source": [
    "# What happens when we try to use pop() on an empty stack?\n",
    "s = ListStack()\n",
    "s.push(17)\n",
    "s.pop()\n",
    "s.pop()"
   ]
  },
  {
   "cell_type": "code",
   "execution_count": null,
   "metadata": {},
   "outputs": [],
   "source": [
    "# Use try-except and raise an error\n",
    "class ListStack:\n",
    "    def __init__(self):\n",
    "        self._L = []\n",
    "    \n",
    "    def push(self, item):\n",
    "        self._L.append(item)\n",
    "\n",
    "    def pop(self):\n",
    "        try:\n",
    "            return self._L.pop()\n",
    "        except:\n",
    "            raise RuntimeError(\"pop from empty stack\")\n",
    "\n",
    "    def peek(self):\n",
    "        return self._L[-1]\n",
    "\n",
    "    def __len__(self):\n",
    "        return len(self._L)\n",
    "\n",
    "    def isEmpty(self):\n",
    "        return len(self) == 0"
   ]
  },
  {
   "cell_type": "code",
   "execution_count": null,
   "metadata": {},
   "outputs": [],
   "source": [
    "# Test\n",
    "s = ListStack()\n",
    "s.push(17)\n",
    "s.pop()\n",
    "s.pop()"
   ]
  },
  {
   "cell_type": "code",
   "execution_count": null,
   "metadata": {},
   "outputs": [],
   "source": [
    "# Use try-except but only print an error\n",
    "class ListStack:\n",
    "    def __init__(self):\n",
    "        self._L = []\n",
    "    \n",
    "    def push(self, item):\n",
    "        self._L.append(item)\n",
    "\n",
    "    def pop(self):\n",
    "        try:\n",
    "            return self._L.pop()\n",
    "        except:\n",
    "            print(\"You just tried to pop from an empty stack.\")\n",
    "\n",
    "    def peek(self):\n",
    "        return self._L[-1]\n",
    "\n",
    "    def __len__(self):\n",
    "        return len(self._L)\n",
    "\n",
    "    def isEmpty(self):\n",
    "        return len(self) == 0"
   ]
  },
  {
   "cell_type": "code",
   "execution_count": null,
   "metadata": {},
   "outputs": [],
   "source": [
    "# Test\n",
    "s = ListStack()\n",
    "s.push(17)\n",
    "s.pop()\n",
    "s.pop()"
   ]
  },
  {
   "cell_type": "markdown",
   "metadata": {},
   "source": [
    "### Deques"
   ]
  },
  {
   "cell_type": "code",
   "execution_count": null,
   "metadata": {},
   "outputs": [],
   "source": [
    "class ListDeque:\n",
    "    def __init__(self):\n",
    "        self._L = []\n",
    "    \n",
    "    def addFirst(self, item):\n",
    "        self._L.insert(0, item)\n",
    "\n",
    "    def addLast(self, item):\n",
    "        self._L.append(item)\n",
    "\n",
    "    def removeFirst(self):\n",
    "        self._L.pop[0]\n",
    "\n",
    "    def removeLast(self):\n",
    "        self._L.pop()\n",
    "\n",
    "    def __len__(self):\n",
    "        return len(self._L)"
   ]
  },
  {
   "cell_type": "code",
   "execution_count": null,
   "metadata": {},
   "outputs": [],
   "source": [
    "# Test the deque operations"
   ]
  },
  {
   "cell_type": "markdown",
   "metadata": {},
   "source": [
    "### Linked Lists"
   ]
  },
  {
   "cell_type": "code",
   "execution_count": 55,
   "metadata": {},
   "outputs": [],
   "source": [
    "class ListNode:\n",
    "    def __init__(self, data, link=None):\n",
    "        self.data = data\n",
    "        self.link = link"
   ]
  },
  {
   "cell_type": "code",
   "execution_count": 56,
   "metadata": {},
   "outputs": [],
   "source": [
    "# Let's get this started with only functionality \n",
    "# to add or remove the first element.\n",
    "\n",
    "# We can add functionality to add/remove the last element later.\n",
    "\n",
    "class LinkedList:\n",
    "    def __init__(self):\n",
    "        self._head = None\n",
    "    \n",
    "    def addFirst(self, item):\n",
    "        self._head = ListNode(item, self._head)\n",
    "    \n",
    "    def removeFirst(self):\n",
    "        item = self._head.data\n",
    "        self._head = self._head.link\n",
    "        return item"
   ]
  },
  {
   "cell_type": "code",
   "execution_count": 57,
   "metadata": {},
   "outputs": [],
   "source": [
    "# Test it out!\n",
    "\n",
    "# Create an empty list\n",
    "my_stuff = LinkedList()\n"
   ]
  },
  {
   "cell_type": "code",
   "execution_count": 58,
   "metadata": {},
   "outputs": [],
   "source": [
    "# Add a few things to it\n",
    "my_stuff.addFirst(1)\n",
    "my_stuff.addFirst(3)\n",
    "my_stuff.addFirst(5)"
   ]
  },
  {
   "cell_type": "code",
   "execution_count": 59,
   "metadata": {},
   "outputs": [
    {
     "data": {
      "text/plain": [
       "5"
      ]
     },
     "execution_count": 59,
     "metadata": {},
     "output_type": "execute_result"
    }
   ],
   "source": [
    "# Can we remove each item?\n",
    "my_stuff.removeFirst()"
   ]
  },
  {
   "cell_type": "code",
   "execution_count": 60,
   "metadata": {},
   "outputs": [],
   "source": [
    "# Now we'll add functionality to add/remove the last element.\n",
    "\n",
    "class LinkedList:\n",
    "    def __init__(self):\n",
    "        self._head = None\n",
    "    \n",
    "    def addFirst(self, item):\n",
    "        self._head = ListNode(item, self._head)\n",
    "    \n",
    "    def removeFirst(self):\n",
    "        item = self._head.data\n",
    "        self._head = self._head.link\n",
    "        return item\n",
    "    \n",
    "    def addLast(self, item):\n",
    "        if self._head is None:\n",
    "            self.addFirst(item)\n",
    "        else:\n",
    "            currentNode = self._head\n",
    "            while currentNode.link is not None:\n",
    "                currentNode = currentNode.link\n",
    "            currentNode.link = ListNode(item)\n",
    "\n",
    "    def removeLast(self):\n",
    "        if self._head.link is None:\n",
    "            return self.removeFirst()\n",
    "        else:\n",
    "            currentNode = self._head\n",
    "            while currentNode.link.link is not None:\n",
    "                currentNode = currentNode.link\n",
    "            item = currentNode.link.data\n",
    "            currentNode.link = None\n",
    "            return item"
   ]
  },
  {
   "cell_type": "code",
   "execution_count": 61,
   "metadata": {},
   "outputs": [],
   "source": [
    "# Can we simplify things if we also keep track of a tail?\n",
    "\n",
    "class LinkedList:\n",
    "    def __init__(self):\n",
    "        self._head = None\n",
    "        self._tail = None\n",
    "    \n",
    "    def addFirst(self, item):\n",
    "        self._head = ListNode(item, self._head)\n",
    "        if self._tail is None:\n",
    "            self._tail is self._head\n",
    "    \n",
    "    def removeFirst(self):\n",
    "        item = self._head.data\n",
    "        self._head = self._head.link\n",
    "        if self._head is None:\n",
    "            self._tail is None\n",
    "        return item\n",
    "    \n",
    "    def addLast(self, item):\n",
    "        if self._head is None:\n",
    "            self.addFirst(item)\n",
    "        else:\n",
    "            self._tail.link = ListNode(item)\n",
    "            self._tail = self._tail.link\n",
    "\n",
    "    def removeLast(self):\n",
    "        if self._head.link is self._tail:\n",
    "            return self.removeFirst()\n",
    "        else:\n",
    "            currentNode = self._head\n",
    "            while currentNode.link.link is not self._tail:\n",
    "                currentNode = currentNode.link\n",
    "            item = self._tail.data\n",
    "            self._tail = currentNode\n",
    "            self._tail.link = None\n",
    "            return item"
   ]
  },
  {
   "cell_type": "code",
   "execution_count": 62,
   "metadata": {},
   "outputs": [],
   "source": [
    "# To really make this work efficiently, \n",
    "# we need to have links on both sides!"
   ]
  },
  {
   "cell_type": "markdown",
   "metadata": {},
   "source": [
    "### Doubly Linked Lists"
   ]
  },
  {
   "cell_type": "code",
   "execution_count": 63,
   "metadata": {},
   "outputs": [],
   "source": [
    "class ListNode:\n",
    "    def __init__(self, data, prev = None, link = None):\n",
    "        self.data = data\n",
    "        self.prev = prev\n",
    "        self.link = link\n",
    "        if prev is not None:\n",
    "            self.prev.link = self\n",
    "        if link is not None:\n",
    "            self.link.prev = self"
   ]
  },
  {
   "cell_type": "code",
   "execution_count": 64,
   "metadata": {},
   "outputs": [],
   "source": [
    "# This time, we'll start with just addFirst and addLast\n",
    "class DoublyLinkedList:\n",
    "    def __init__(self):\n",
    "        self._head = None\n",
    "        self._tail = None\n",
    "\n",
    "    def addFirst(self, item):\n",
    "        if self._head is None and self._tail is None:\n",
    "            self._head = self._tail = ListNode(item, None, None)\n",
    "        else:\n",
    "            newNode = ListNode(item, None, self._head)\n",
    "            self._head.prev = newNode\n",
    "            self._head = newNode\n",
    "    \n",
    "    def addLast(self, item):\n",
    "        if self._head is None and self._tail is None:\n",
    "            self._head = self._tail = ListNode(item, None, None)\n",
    "        else:\n",
    "            newNode = ListNode(item, self._tail, None)\n",
    "            self._tail.link = newNode\n",
    "            self._tail = newNode"
   ]
  },
  {
   "cell_type": "code",
   "execution_count": 65,
   "metadata": {},
   "outputs": [],
   "source": [
    "# We can refactor this to simplify the \n",
    "# duplication we see in the previous cell\n",
    "\n",
    "class DoublyLinkedList:\n",
    "    def __init__(self):\n",
    "        self._head = None\n",
    "        self._tail = None\n",
    "\n",
    "    def _addBetween(self, item, before, after):\n",
    "        node = ListNode(item, before, after)\n",
    "        if after is self._head:\n",
    "            self._head = node\n",
    "        if before is self._tail:\n",
    "            self._tail = node\n",
    "    \n",
    "    def addFirst(self, item):\n",
    "        self._addBetween(item, None, self._head)\n",
    "    \n",
    "    def addLast(self, item):\n",
    "        self._addBetween(item, self._tail, None)\n"
   ]
  },
  {
   "cell_type": "code",
   "execution_count": 66,
   "metadata": {},
   "outputs": [],
   "source": [
    "# Now we'll add functionality to remove items\n",
    "\n",
    "class DoublyLinkedList:\n",
    "    def __init__(self):\n",
    "        self._head = None\n",
    "        self._tail = None\n",
    "        self._len = 0\n",
    "    \n",
    "    def __len__(self):\n",
    "        return self._len\n",
    "        \n",
    "    def _addBetween(self, item, before, after):\n",
    "        node = ListNode(item, before, after)\n",
    "        if after is self._head:\n",
    "            self._head = node\n",
    "        if before is self._tail:\n",
    "            self._tail = node\n",
    "        self._len += 1\n",
    "\n",
    "    def addFirst(self, item):\n",
    "        self._addBetween(item, None, self._head)\n",
    "    \n",
    "    def addLast(self, item):\n",
    "        self._addBetween(item, self._tail, None)\n",
    "\n",
    "    def _remove(self, node):\n",
    "        before, after = node.prev, node.link\n",
    "        if node is self._head:\n",
    "            self._head = after\n",
    "        else:\n",
    "            before.link = after\n",
    "        if node is self._tail:\n",
    "            self._tail = before\n",
    "        else: \n",
    "            after.prev = before\n",
    "        self._len -= 1\n",
    "        return node.data\n",
    "    \n",
    "    \n",
    "    def removeFirst(self):\n",
    "        return self._remove(self._head)\n",
    "    \n",
    "    def removeLast(self):\n",
    "        return self._remove(self._tail)"
   ]
  },
  {
   "cell_type": "code",
   "execution_count": 67,
   "metadata": {},
   "outputs": [
    {
     "name": "stdout",
     "output_type": "stream",
     "text": [
      "3\n"
     ]
    }
   ],
   "source": [
    "L1 = DoublyLinkedList()\n",
    "\n",
    "L1.addFirst(1)\n",
    "L1.addFirst(2)\n",
    "L1.addFirst(3)\n",
    "print(L1.__len__())"
   ]
  }
 ],
 "metadata": {
  "kernelspec": {
   "display_name": "Python 3",
   "language": "python",
   "name": "python3"
  },
  "language_info": {
   "codemirror_mode": {
    "name": "ipython",
    "version": 3
   },
   "file_extension": ".py",
   "mimetype": "text/x-python",
   "name": "python",
   "nbconvert_exporter": "python",
   "pygments_lexer": "ipython3",
   "version": "3.13.0"
  }
 },
 "nbformat": 4,
 "nbformat_minor": 2
}
