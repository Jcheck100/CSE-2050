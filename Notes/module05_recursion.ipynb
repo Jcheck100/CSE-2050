{
 "cells": [
  {
   "cell_type": "markdown",
   "metadata": {},
   "source": [
    "### Code to accompany Module 5: Recursion"
   ]
  },
  {
   "cell_type": "code",
   "execution_count": 18,
   "metadata": {},
   "outputs": [
    {
     "name": "stdout",
     "output_type": "stream",
     "text": [
      "6.580352783203125e-05 0.00019288063049316406\n"
     ]
    }
   ],
   "source": [
    "import time\n",
    "\n",
    "\n",
    "def factorial(n):\n",
    "    if n == 1:\n",
    "        return 1\n",
    "    return n * factorial(n-1)\n",
    "\n",
    "def factorial0(n):\n",
    "    if n == 0:\n",
    "        return 1\n",
    "    return n * factorial(n-1)\n",
    "\n",
    "start = time.time()\n",
    "factorial(5)\n",
    "end = time.time() - start\n",
    "\n",
    "start0 = time.time()\n",
    "factorial0(5)\n",
    "end0 = time.time() - start\n",
    "\n",
    "print(end, end0)\n",
    "\n",
    "\n"
   ]
  },
  {
   "cell_type": "code",
   "execution_count": null,
   "metadata": {},
   "outputs": [],
   "source": [
    "\n",
    "factorial(3)"
   ]
  },
  {
   "cell_type": "code",
   "execution_count": 2,
   "metadata": {},
   "outputs": [
    {
     "data": {
      "text/plain": [
       "10"
      ]
     },
     "execution_count": 2,
     "metadata": {},
     "output_type": "execute_result"
    }
   ],
   "source": [
    "def inc(x):\n",
    "    return x + 1\n",
    "\n",
    "def incThenDouble(x):\n",
    "    return 2 * inc(x)\n",
    "\n",
    "def justDoIt(x):\n",
    "    return incThenDouble(x)\n",
    "\n",
    "justDoIt(4)"
   ]
  },
  {
   "cell_type": "code",
   "execution_count": 9,
   "metadata": {},
   "outputs": [],
   "source": [
    "def sumToN_recur(n):\n",
    "    if n == 0:\n",
    "        return 0\n",
    "    return n + sumToN_recur(n-1)"
   ]
  },
  {
   "cell_type": "code",
   "execution_count": null,
   "metadata": {},
   "outputs": [],
   "source": [
    "def sumToN_iter(n):\n",
    "    sum = 0\n",
    "    for i in range(1,n+1):\n",
    "        sum += i\n",
    "    return sum"
   ]
  },
  {
   "cell_type": "code",
   "execution_count": null,
   "metadata": {},
   "outputs": [],
   "source": [
    "def minCoinChangeGreedy(coinValues, amount):\n",
    "    coinValues.sort(reverse = True)\n",
    "    numCoins = 0\n",
    "    for c in coinValues:\n",
    "        # Use as many coins as possible\n",
    "        numCoins += amount // c\n",
    "        # Update the amount of change left\n",
    "        amount = amount % c\n",
    "    return numCoins"
   ]
  },
  {
   "cell_type": "code",
   "execution_count": null,
   "metadata": {},
   "outputs": [],
   "source": [
    "def fib(f0):\n",
    "    if f0 == 0:\n",
    "        return 0\n",
    "    if f0 == 1:\n",
    "        return 1\n",
    "    return fib(f0-1) + fib(f0-2) \n",
    "\n"
   ]
  }
 ],
 "metadata": {
  "kernelspec": {
   "display_name": "Python 3",
   "language": "python",
   "name": "python3"
  },
  "language_info": {
   "codemirror_mode": {
    "name": "ipython",
    "version": 3
   },
   "file_extension": ".py",
   "mimetype": "text/x-python",
   "name": "python",
   "nbconvert_exporter": "python",
   "pygments_lexer": "ipython3",
   "version": "3.13.0"
  }
 },
 "nbformat": 4,
 "nbformat_minor": 2
}
